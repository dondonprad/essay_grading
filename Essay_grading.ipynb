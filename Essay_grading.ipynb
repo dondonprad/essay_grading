{
 "cells": [
  {
   "cell_type": "code",
   "execution_count": 1,
   "id": "e4abd0bd-66e8-413d-8be6-ae4fb44cfb97",
   "metadata": {},
   "outputs": [],
   "source": [
    "#pip install nltk"
   ]
  },
  {
   "cell_type": "code",
   "execution_count": 2,
   "id": "f45ba8a9-8ee5-45b6-b347-46291af81699",
   "metadata": {},
   "outputs": [],
   "source": [
    "#pip install Sastrawi"
   ]
  },
  {
   "cell_type": "code",
   "execution_count": 3,
   "id": "8c37429c-860e-4499-8881-372507a5215e",
   "metadata": {},
   "outputs": [],
   "source": [
    "import pandas as pd\n",
    "import numpy as np\n",
    "\n",
    "import re, collections\n",
    "import string\n",
    "from Sastrawi.Stemmer.StemmerFactory import StemmerFactory\n",
    "from Sastrawi.StopWordRemover.StopWordRemoverFactory import StopWordRemoverFactory\n",
    "from nltk.tokenize import word_tokenize, sent_tokenize\n",
    "from nltk.corpus import stopwords\n",
    "from nltk.stem import WordNetLemmatizer\n",
    "from nltk.corpus import wordnet\n",
    "from nltk import pos_tag\n",
    "import nltk \n",
    "\n",
    "import seaborn as sns\n",
    "import matplotlib.pyplot as plt"
   ]
  },
  {
   "cell_type": "code",
   "execution_count": 4,
   "id": "f263deca-886b-4008-96b7-8c939eb357ca",
   "metadata": {},
   "outputs": [
    {
     "name": "stderr",
     "output_type": "stream",
     "text": [
      "[nltk_data] Downloading package punkt to /home/Lenovo/nltk_data...\n",
      "[nltk_data]   Package punkt is already up-to-date!\n",
      "[nltk_data] Downloading package stopwords to /home/Lenovo/nltk_data...\n",
      "[nltk_data]   Package stopwords is already up-to-date!\n",
      "[nltk_data] Downloading package wordnet to /home/Lenovo/nltk_data...\n",
      "[nltk_data]   Package wordnet is already up-to-date!\n"
     ]
    },
    {
     "data": {
      "text/plain": [
       "True"
      ]
     },
     "execution_count": 4,
     "metadata": {},
     "output_type": "execute_result"
    }
   ],
   "source": [
    "nltk.download('punkt')\n",
    "nltk.download('stopwords')\n",
    "nltk.download('wordnet')"
   ]
  },
  {
   "cell_type": "code",
   "execution_count": 5,
   "id": "42a41a0e-e717-4103-b12a-89758e1534ce",
   "metadata": {},
   "outputs": [],
   "source": [
    "data_raw = pd.read_csv('gs://cloud-ai-platform-7bfc6536-211b-4cb2-a204-749e10e46074/dataset_esay_grading.csv')"
   ]
  },
  {
   "cell_type": "code",
   "execution_count": 6,
   "id": "b72deb3e-15a5-4c02-9fbd-a3c44f4c6850",
   "metadata": {},
   "outputs": [
    {
     "data": {
      "text/html": [
       "<div>\n",
       "<style scoped>\n",
       "    .dataframe tbody tr th:only-of-type {\n",
       "        vertical-align: middle;\n",
       "    }\n",
       "\n",
       "    .dataframe tbody tr th {\n",
       "        vertical-align: top;\n",
       "    }\n",
       "\n",
       "    .dataframe thead th {\n",
       "        text-align: right;\n",
       "    }\n",
       "</style>\n",
       "<table border=\"1\" class=\"dataframe\">\n",
       "  <thead>\n",
       "    <tr style=\"text-align: right;\">\n",
       "      <th></th>\n",
       "      <th>jawaban_mahasiswa</th>\n",
       "      <th>jawaban_dosen</th>\n",
       "      <th>human_rater</th>\n",
       "      <th>human_rater_scaled</th>\n",
       "    </tr>\n",
       "  </thead>\n",
       "  <tbody>\n",
       "    <tr>\n",
       "      <th>0</th>\n",
       "      <td>komputer menggunakan layanan tersedia jaringan</td>\n",
       "      <td>client server jaringan komputer model komunika...</td>\n",
       "      <td>20</td>\n",
       "      <td>0.2</td>\n",
       "    </tr>\n",
       "    <tr>\n",
       "      <th>1</th>\n",
       "      <td>fundamental centralized infrastructure</td>\n",
       "      <td>client server jaringan komputer model komunika...</td>\n",
       "      <td>20</td>\n",
       "      <td>0.2</td>\n",
       "    </tr>\n",
       "    <tr>\n",
       "      <th>2</th>\n",
       "      <td>hubungan komponen jaringan berkomunikasi</td>\n",
       "      <td>client server jaringan komputer model komunika...</td>\n",
       "      <td>30</td>\n",
       "      <td>0.3</td>\n",
       "    </tr>\n",
       "    <tr>\n",
       "      <th>3</th>\n",
       "      <td>client server jaringan komunikasi client serve...</td>\n",
       "      <td>client server jaringan komputer model komunika...</td>\n",
       "      <td>40</td>\n",
       "      <td>0.4</td>\n",
       "    </tr>\n",
       "    <tr>\n",
       "      <th>4</th>\n",
       "      <td>client server jaringan 2 buah cliet 1 server s...</td>\n",
       "      <td>client server jaringan komputer model komunika...</td>\n",
       "      <td>40</td>\n",
       "      <td>0.4</td>\n",
       "    </tr>\n",
       "  </tbody>\n",
       "</table>\n",
       "</div>"
      ],
      "text/plain": [
       "                                   jawaban_mahasiswa  \\\n",
       "0     komputer menggunakan layanan tersedia jaringan   \n",
       "1             fundamental centralized infrastructure   \n",
       "2           hubungan komponen jaringan berkomunikasi   \n",
       "3  client server jaringan komunikasi client serve...   \n",
       "4  client server jaringan 2 buah cliet 1 server s...   \n",
       "\n",
       "                                       jawaban_dosen  human_rater  \\\n",
       "0  client server jaringan komputer model komunika...           20   \n",
       "1  client server jaringan komputer model komunika...           20   \n",
       "2  client server jaringan komputer model komunika...           30   \n",
       "3  client server jaringan komputer model komunika...           40   \n",
       "4  client server jaringan komputer model komunika...           40   \n",
       "\n",
       "   human_rater_scaled  \n",
       "0                 0.2  \n",
       "1                 0.2  \n",
       "2                 0.3  \n",
       "3                 0.4  \n",
       "4                 0.4  "
      ]
     },
     "execution_count": 6,
     "metadata": {},
     "output_type": "execute_result"
    }
   ],
   "source": [
    "data_raw.head()"
   ]
  },
  {
   "cell_type": "code",
   "execution_count": 7,
   "id": "8d5f41d4-c602-46ba-8747-9ba5c1b656fa",
   "metadata": {},
   "outputs": [],
   "source": [
    "def preprocessing_text(df):\n",
    "    factory = StopWordRemoverFactory()\n",
    "    stopword = factory.create_stop_word_remover()\n",
    "\n",
    "    factory = StemmerFactory()\n",
    "    stemmer = factory.create_stemmer()\n",
    "\n",
    "    new_data = []\n",
    "    exclude = ['', '\"', '”']\n",
    "\n",
    "    df['jawaban_mahasiswa'] = df['jawaban_mahasiswa'].str.strip().str.lower()\n",
    "    df['jawaban_dosen'] = df['jawaban_dosen'].str.strip().str.lower()\n",
    "    \n",
    "    for index, row in df.iterrows():\n",
    "        label = row['human_rater']\n",
    "        sentence_mahasiswa = row['jawaban_mahasiswa']\n",
    "        # sentence_dosen = row['jawaban_dosen']\n",
    "        ## === menghilangkan kata yang dianggap tidak mengacu pada inti kalimatnya, seperti kata sang, si, dan, itu, dan lain sebagainya\n",
    "        sentence_mahasiswa = stopword.remove(sentence_mahasiswa)\n",
    "        # sentence_dosen = stopword.remove(sentence_dosen)\n",
    "\n",
    "        ## === mentransformasi kata-kata pada text menjadi kata dasarnya\n",
    "        sentence_mahasiswa = stemmer.stem(sentence_mahasiswa)\n",
    "        # sentence_dosen = stemmer.stem(sentence_dosen)\n",
    "        # sentence = sentence_stemming if sentence_stopwords == \"\" or sentence_stopwords == \" \" else sentence_stopwords\n",
    "\n",
    "        df.at[index, 'jawaban_mahasiswa']= sentence_mahasiswa\n",
    "        # df.at[index, 'jawaban_dosen']= sentence_dosen\n",
    "\n",
    "        # sentence = find_words = re.compile(r'(?<!\\S)[A-Za-z]+(?!\\S)|(?<!\\S)[A-Za-z]+(?=:(?!\\S))').findall\n",
    "        # sentence = re.match(\"^[A-Za-z]*$\", sentence):\n",
    "        tokens_mahasiswa = nltk.tokenize.sent_tokenize(sentence_mahasiswa)\n",
    "        # tokens_dosen = nltk.tokenize.sent_tokenize(sentence_dosen)\n",
    "\n",
    "        if len(tokens_mahasiswa) > 1:\n",
    "            print(\"here\")\n",
    "            test = []\n",
    "            for i, token in enumerate(tokens):\n",
    "                ## === splitting text menjadi beberapa kalimat berdasarkan tanda ? ! \"\" dengan split regex\n",
    "                test += re.split(r'[!?\"(.*?)\"]+|(?<!\\.)\\.(?!\\.)', token)\n",
    "\n",
    "            ## === menghapus tanda baca dan number pada kalimat yang dihasilkan dengan substract regex\n",
    "            tokens = [re.sub(r'[^\\w]', ' ', i) for i in test if i not in exclude]\n",
    "\n",
    "            ## === menghilangkan angka dengan substract regex\n",
    "            tokens = [re.sub(\"(\\s\\d+)\",\"\",i)  for i in tokens]\n",
    "\n",
    "            for i, token in enumerate(tokens):\n",
    "                if token != '' or token != ' ' or token != \"\\\"\":\n",
    "\n",
    "                    ## === menghilangkan duplicate words\n",
    "                    token = ' '.join(dict.fromkeys(token.split()))\n",
    "\n",
    "                    new_data.append([token, label])\n",
    "    return df.copy()\n",
    "       "
   ]
  },
  {
   "cell_type": "code",
   "execution_count": 8,
   "id": "a9bb539b-36fa-4332-8b86-3ae7e0920574",
   "metadata": {},
   "outputs": [],
   "source": [
    "data = preprocessing_text(data_raw)"
   ]
  },
  {
   "cell_type": "code",
   "execution_count": 9,
   "id": "59587b93-2b44-43e9-a345-684643fe2ee2",
   "metadata": {},
   "outputs": [
    {
     "data": {
      "text/html": [
       "<div>\n",
       "<style scoped>\n",
       "    .dataframe tbody tr th:only-of-type {\n",
       "        vertical-align: middle;\n",
       "    }\n",
       "\n",
       "    .dataframe tbody tr th {\n",
       "        vertical-align: top;\n",
       "    }\n",
       "\n",
       "    .dataframe thead th {\n",
       "        text-align: right;\n",
       "    }\n",
       "</style>\n",
       "<table border=\"1\" class=\"dataframe\">\n",
       "  <thead>\n",
       "    <tr style=\"text-align: right;\">\n",
       "      <th></th>\n",
       "      <th>jawaban_mahasiswa</th>\n",
       "      <th>jawaban_dosen</th>\n",
       "      <th>human_rater</th>\n",
       "      <th>human_rater_scaled</th>\n",
       "    </tr>\n",
       "  </thead>\n",
       "  <tbody>\n",
       "    <tr>\n",
       "      <th>0</th>\n",
       "      <td>komputer guna layan sedia jaring</td>\n",
       "      <td>client server jaringan komputer model komunika...</td>\n",
       "      <td>20</td>\n",
       "      <td>0.2</td>\n",
       "    </tr>\n",
       "    <tr>\n",
       "      <th>1</th>\n",
       "      <td>fundamental centralized infrastructure</td>\n",
       "      <td>client server jaringan komputer model komunika...</td>\n",
       "      <td>20</td>\n",
       "      <td>0.2</td>\n",
       "    </tr>\n",
       "    <tr>\n",
       "      <th>2</th>\n",
       "      <td>hubung komponen jaring komunikasi</td>\n",
       "      <td>client server jaringan komputer model komunika...</td>\n",
       "      <td>30</td>\n",
       "      <td>0.3</td>\n",
       "    </tr>\n",
       "    <tr>\n",
       "      <th>3</th>\n",
       "      <td>client server jaring komunikasi client server ...</td>\n",
       "      <td>client server jaringan komputer model komunika...</td>\n",
       "      <td>40</td>\n",
       "      <td>0.4</td>\n",
       "    </tr>\n",
       "    <tr>\n",
       "      <th>4</th>\n",
       "      <td>client server jaring 2 buah cliet 1 server sat...</td>\n",
       "      <td>client server jaringan komputer model komunika...</td>\n",
       "      <td>40</td>\n",
       "      <td>0.4</td>\n",
       "    </tr>\n",
       "    <tr>\n",
       "      <th>...</th>\n",
       "      <td>...</td>\n",
       "      <td>...</td>\n",
       "      <td>...</td>\n",
       "      <td>...</td>\n",
       "    </tr>\n",
       "    <tr>\n",
       "      <th>215</th>\n",
       "      <td>turbo boost sistem beri produsen prosesor ting...</td>\n",
       "      <td>turbo boost salah satu fitur prosesor masa ber...</td>\n",
       "      <td>70</td>\n",
       "      <td>0.7</td>\n",
       "    </tr>\n",
       "    <tr>\n",
       "      <th>216</th>\n",
       "      <td>turbo boost cepat kerja processor milik perfor...</td>\n",
       "      <td>turbo boost salah satu fitur prosesor masa ber...</td>\n",
       "      <td>80</td>\n",
       "      <td>0.8</td>\n",
       "    </tr>\n",
       "    <tr>\n",
       "      <th>217</th>\n",
       "      <td>turbo boost kondisi jadi tambah cepat prosesor...</td>\n",
       "      <td>turbo boost salah satu fitur prosesor masa ber...</td>\n",
       "      <td>60</td>\n",
       "      <td>0.6</td>\n",
       "    </tr>\n",
       "    <tr>\n",
       "      <th>218</th>\n",
       "      <td>turbo boost fitur prosesor tingkat kerja prose...</td>\n",
       "      <td>turbo boost salah satu fitur prosesor masa ber...</td>\n",
       "      <td>80</td>\n",
       "      <td>0.8</td>\n",
       "    </tr>\n",
       "    <tr>\n",
       "      <th>219</th>\n",
       "      <td>turbo boost tingkat performa prosesor tingkat ...</td>\n",
       "      <td>turbo boost salah satu fitur prosesor masa ber...</td>\n",
       "      <td>70</td>\n",
       "      <td>0.7</td>\n",
       "    </tr>\n",
       "  </tbody>\n",
       "</table>\n",
       "<p>220 rows × 4 columns</p>\n",
       "</div>"
      ],
      "text/plain": [
       "                                     jawaban_mahasiswa  \\\n",
       "0                     komputer guna layan sedia jaring   \n",
       "1               fundamental centralized infrastructure   \n",
       "2                    hubung komponen jaring komunikasi   \n",
       "3    client server jaring komunikasi client server ...   \n",
       "4    client server jaring 2 buah cliet 1 server sat...   \n",
       "..                                                 ...   \n",
       "215  turbo boost sistem beri produsen prosesor ting...   \n",
       "216  turbo boost cepat kerja processor milik perfor...   \n",
       "217  turbo boost kondisi jadi tambah cepat prosesor...   \n",
       "218  turbo boost fitur prosesor tingkat kerja prose...   \n",
       "219  turbo boost tingkat performa prosesor tingkat ...   \n",
       "\n",
       "                                         jawaban_dosen  human_rater  \\\n",
       "0    client server jaringan komputer model komunika...           20   \n",
       "1    client server jaringan komputer model komunika...           20   \n",
       "2    client server jaringan komputer model komunika...           30   \n",
       "3    client server jaringan komputer model komunika...           40   \n",
       "4    client server jaringan komputer model komunika...           40   \n",
       "..                                                 ...          ...   \n",
       "215  turbo boost salah satu fitur prosesor masa ber...           70   \n",
       "216  turbo boost salah satu fitur prosesor masa ber...           80   \n",
       "217  turbo boost salah satu fitur prosesor masa ber...           60   \n",
       "218  turbo boost salah satu fitur prosesor masa ber...           80   \n",
       "219  turbo boost salah satu fitur prosesor masa ber...           70   \n",
       "\n",
       "     human_rater_scaled  \n",
       "0                   0.2  \n",
       "1                   0.2  \n",
       "2                   0.3  \n",
       "3                   0.4  \n",
       "4                   0.4  \n",
       "..                  ...  \n",
       "215                 0.7  \n",
       "216                 0.8  \n",
       "217                 0.6  \n",
       "218                 0.8  \n",
       "219                 0.7  \n",
       "\n",
       "[220 rows x 4 columns]"
      ]
     },
     "execution_count": 9,
     "metadata": {},
     "output_type": "execute_result"
    }
   ],
   "source": [
    "data"
   ]
  },
  {
   "cell_type": "code",
   "execution_count": 10,
   "id": "6bb98e10-7201-4096-8f75-1d4d7e99d7ca",
   "metadata": {},
   "outputs": [
    {
     "data": {
      "text/plain": [
       "jawaban_mahasiswa     0\n",
       "jawaban_dosen         0\n",
       "human_rater           0\n",
       "human_rater_scaled    0\n",
       "dtype: int64"
      ]
     },
     "execution_count": 10,
     "metadata": {},
     "output_type": "execute_result"
    }
   ],
   "source": [
    "data.isnull().sum()"
   ]
  },
  {
   "cell_type": "code",
   "execution_count": 11,
   "id": "ba6580c6-09dc-493d-89ed-2fb777ae9706",
   "metadata": {},
   "outputs": [
    {
     "data": {
      "image/png": "[encoded data removed]",
      "text/plain": [
       "<Figure size 640x480 with 1 Axes>"
      ]
     },
     "metadata": {},
     "output_type": "display_data"
    }
   ],
   "source": [
    "sns.countplot(x=data_raw.human_rater_scaled)\n",
    "plt.show()"
   ]
  },
  {
   "cell_type": "code",
   "execution_count": 12,
   "id": "cb084e33-c399-46d4-8357-208587a8fc4a",
   "metadata": {},
   "outputs": [],
   "source": [
    "# Feature Extraction\n",
    "# TFIDF dan Cosine Similarity \n",
    "# Feature Extraction\n",
    "# TFIDF dan Cosine Similarity \n",
    "\n",
    "from sklearn.feature_extraction.text import TfidfVectorizer\n",
    "from sklearn.metrics.pairwise import cosine_similarity"
   ]
  },
  {
   "cell_type": "code",
   "execution_count": 13,
   "id": "1db17a31-81eb-474b-b317-7273bac9921b",
   "metadata": {},
   "outputs": [],
   "source": [
    "#Pembuatan feature baru \n",
    "\n",
    "vec = TfidfVectorizer()\n",
    "# vec = CountVectorizer()\n",
    "\n",
    "similarity = []\n",
    "for index, row in data.iterrows():\n",
    "    corpus = [row['jawaban_mahasiswa'], row['jawaban_dosen']]\n",
    "    sparse_matrix = vec.fit_transform(corpus)\n",
    "    doc_term_matrix = sparse_matrix.todense()\n",
    "    sim = cosine_similarity(sparse_matrix[0], sparse_matrix[1])\n",
    "    similarity.append(sim[0][0])\n",
    "\n",
    "data[\"similarity\"] = similarity"
   ]
  },
  {
   "cell_type": "code",
   "execution_count": 14,
   "id": "bf43f5f8-9e2a-40dc-ac9b-5fc12df21742",
   "metadata": {},
   "outputs": [
    {
     "data": {
      "text/html": [
       "<div>\n",
       "<style scoped>\n",
       "    .dataframe tbody tr th:only-of-type {\n",
       "        vertical-align: middle;\n",
       "    }\n",
       "\n",
       "    .dataframe tbody tr th {\n",
       "        vertical-align: top;\n",
       "    }\n",
       "\n",
       "    .dataframe thead th {\n",
       "        text-align: right;\n",
       "    }\n",
       "</style>\n",
       "<table border=\"1\" class=\"dataframe\">\n",
       "  <thead>\n",
       "    <tr style=\"text-align: right;\">\n",
       "      <th></th>\n",
       "      <th>jawaban_mahasiswa</th>\n",
       "      <th>jawaban_dosen</th>\n",
       "      <th>human_rater</th>\n",
       "      <th>human_rater_scaled</th>\n",
       "      <th>similarity</th>\n",
       "    </tr>\n",
       "  </thead>\n",
       "  <tbody>\n",
       "    <tr>\n",
       "      <th>0</th>\n",
       "      <td>komputer guna layan sedia jaring</td>\n",
       "      <td>client server jaringan komputer model komunika...</td>\n",
       "      <td>20</td>\n",
       "      <td>0.2</td>\n",
       "      <td>0.034600</td>\n",
       "    </tr>\n",
       "    <tr>\n",
       "      <th>1</th>\n",
       "      <td>fundamental centralized infrastructure</td>\n",
       "      <td>client server jaringan komputer model komunika...</td>\n",
       "      <td>20</td>\n",
       "      <td>0.2</td>\n",
       "      <td>0.000000</td>\n",
       "    </tr>\n",
       "    <tr>\n",
       "      <th>2</th>\n",
       "      <td>hubung komponen jaring komunikasi</td>\n",
       "      <td>client server jaringan komputer model komunika...</td>\n",
       "      <td>30</td>\n",
       "      <td>0.3</td>\n",
       "      <td>0.039225</td>\n",
       "    </tr>\n",
       "    <tr>\n",
       "      <th>3</th>\n",
       "      <td>client server jaring komunikasi client server ...</td>\n",
       "      <td>client server jaringan komputer model komunika...</td>\n",
       "      <td>40</td>\n",
       "      <td>0.4</td>\n",
       "      <td>0.252716</td>\n",
       "    </tr>\n",
       "    <tr>\n",
       "      <th>4</th>\n",
       "      <td>client server jaring 2 buah cliet 1 server sat...</td>\n",
       "      <td>client server jaringan komputer model komunika...</td>\n",
       "      <td>40</td>\n",
       "      <td>0.4</td>\n",
       "      <td>0.178612</td>\n",
       "    </tr>\n",
       "    <tr>\n",
       "      <th>...</th>\n",
       "      <td>...</td>\n",
       "      <td>...</td>\n",
       "      <td>...</td>\n",
       "      <td>...</td>\n",
       "      <td>...</td>\n",
       "    </tr>\n",
       "    <tr>\n",
       "      <th>215</th>\n",
       "      <td>turbo boost sistem beri produsen prosesor ting...</td>\n",
       "      <td>turbo boost salah satu fitur prosesor masa ber...</td>\n",
       "      <td>70</td>\n",
       "      <td>0.7</td>\n",
       "      <td>0.209181</td>\n",
       "    </tr>\n",
       "    <tr>\n",
       "      <th>216</th>\n",
       "      <td>turbo boost cepat kerja processor milik perfor...</td>\n",
       "      <td>turbo boost salah satu fitur prosesor masa ber...</td>\n",
       "      <td>80</td>\n",
       "      <td>0.8</td>\n",
       "      <td>0.153784</td>\n",
       "    </tr>\n",
       "    <tr>\n",
       "      <th>217</th>\n",
       "      <td>turbo boost kondisi jadi tambah cepat prosesor...</td>\n",
       "      <td>turbo boost salah satu fitur prosesor masa ber...</td>\n",
       "      <td>60</td>\n",
       "      <td>0.6</td>\n",
       "      <td>0.232294</td>\n",
       "    </tr>\n",
       "    <tr>\n",
       "      <th>218</th>\n",
       "      <td>turbo boost fitur prosesor tingkat kerja prose...</td>\n",
       "      <td>turbo boost salah satu fitur prosesor masa ber...</td>\n",
       "      <td>80</td>\n",
       "      <td>0.8</td>\n",
       "      <td>0.432760</td>\n",
       "    </tr>\n",
       "    <tr>\n",
       "      <th>219</th>\n",
       "      <td>turbo boost tingkat performa prosesor tingkat ...</td>\n",
       "      <td>turbo boost salah satu fitur prosesor masa ber...</td>\n",
       "      <td>70</td>\n",
       "      <td>0.7</td>\n",
       "      <td>0.191815</td>\n",
       "    </tr>\n",
       "  </tbody>\n",
       "</table>\n",
       "<p>220 rows × 5 columns</p>\n",
       "</div>"
      ],
      "text/plain": [
       "                                     jawaban_mahasiswa  \\\n",
       "0                     komputer guna layan sedia jaring   \n",
       "1               fundamental centralized infrastructure   \n",
       "2                    hubung komponen jaring komunikasi   \n",
       "3    client server jaring komunikasi client server ...   \n",
       "4    client server jaring 2 buah cliet 1 server sat...   \n",
       "..                                                 ...   \n",
       "215  turbo boost sistem beri produsen prosesor ting...   \n",
       "216  turbo boost cepat kerja processor milik perfor...   \n",
       "217  turbo boost kondisi jadi tambah cepat prosesor...   \n",
       "218  turbo boost fitur prosesor tingkat kerja prose...   \n",
       "219  turbo boost tingkat performa prosesor tingkat ...   \n",
       "\n",
       "                                         jawaban_dosen  human_rater  \\\n",
       "0    client server jaringan komputer model komunika...           20   \n",
       "1    client server jaringan komputer model komunika...           20   \n",
       "2    client server jaringan komputer model komunika...           30   \n",
       "3    client server jaringan komputer model komunika...           40   \n",
       "4    client server jaringan komputer model komunika...           40   \n",
       "..                                                 ...          ...   \n",
       "215  turbo boost salah satu fitur prosesor masa ber...           70   \n",
       "216  turbo boost salah satu fitur prosesor masa ber...           80   \n",
       "217  turbo boost salah satu fitur prosesor masa ber...           60   \n",
       "218  turbo boost salah satu fitur prosesor masa ber...           80   \n",
       "219  turbo boost salah satu fitur prosesor masa ber...           70   \n",
       "\n",
       "     human_rater_scaled  similarity  \n",
       "0                   0.2    0.034600  \n",
       "1                   0.2    0.000000  \n",
       "2                   0.3    0.039225  \n",
       "3                   0.4    0.252716  \n",
       "4                   0.4    0.178612  \n",
       "..                  ...         ...  \n",
       "215                 0.7    0.209181  \n",
       "216                 0.8    0.153784  \n",
       "217                 0.6    0.232294  \n",
       "218                 0.8    0.432760  \n",
       "219                 0.7    0.191815  \n",
       "\n",
       "[220 rows x 5 columns]"
      ]
     },
     "execution_count": 14,
     "metadata": {},
     "output_type": "execute_result"
    }
   ],
   "source": [
    "data"
   ]
  },
  {
   "cell_type": "markdown",
   "id": "3915eaed",
   "metadata": {},
   "source": [
    "Probability of Prediction (POP) Feature engineering method, this method using classification algorithm for extract the score of prediction. The classfication model, it will be obtain the word2vec and PCA and several classification model (LR, SVC, etc)"
   ]
  },
  {
   "cell_type": "code",
   "execution_count": 15,
   "id": "e9cafa7b-682a-42a3-8688-e153f3bb4fde",
   "metadata": {},
   "outputs": [],
   "source": [
    "\n",
    "# Label encoding\n",
    "x,y = np.asarray(data[\"jawaban_mahasiswa\"]),np.asarray(data[\"jawaban_dosen\"])\n",
    "label_map = {cat:index for index,cat in enumerate(np.unique(y))}\n",
    "y_prep = np.asarray([label_map[l] for l in y])"
   ]
  },
  {
   "cell_type": "code",
   "execution_count": 16,
   "id": "76850bdb-0830-473b-8b87-7ad416225913",
   "metadata": {},
   "outputs": [
    {
     "data": {
      "text/plain": [
       "array([0, 0, 0, 0, 0, 0, 0, 0, 0, 0, 0, 0, 0, 0, 0, 0, 0, 0, 0, 0, 0, 0,\n",
       "       0, 0, 0, 0, 0, 0, 0, 0, 0, 0, 0, 0, 0, 0, 0, 0, 0, 0, 0, 0, 0, 0,\n",
       "       0, 0, 0, 0, 0, 0, 0, 0, 0, 0, 0, 1, 1, 1, 1, 1, 1, 1, 1, 1, 1, 1,\n",
       "       1, 1, 1, 1, 1, 1, 1, 1, 1, 1, 1, 1, 1, 1, 1, 1, 1, 1, 1, 1, 1, 1,\n",
       "       1, 1, 1, 1, 1, 1, 1, 1, 1, 1, 1, 1, 1, 1, 1, 1, 1, 1, 1, 1, 1, 1,\n",
       "       2, 2, 2, 2, 2, 2, 2, 2, 2, 2, 2, 2, 2, 2, 2, 2, 2, 2, 2, 2, 2, 2,\n",
       "       2, 2, 2, 2, 2, 2, 2, 2, 2, 2, 2, 2, 2, 2, 2, 2, 2, 2, 2, 2, 2, 2,\n",
       "       2, 2, 2, 2, 2, 2, 2, 2, 2, 2, 2, 3, 3, 3, 3, 3, 3, 3, 3, 3, 3, 3,\n",
       "       3, 3, 3, 3, 3, 3, 3, 3, 3, 3, 3, 3, 3, 3, 3, 3, 3, 3, 3, 3, 3, 3,\n",
       "       3, 3, 3, 3, 3, 3, 3, 3, 3, 3, 3, 3, 3, 3, 3, 3, 3, 3, 3, 3, 3, 3])"
      ]
     },
     "execution_count": 16,
     "metadata": {},
     "output_type": "execute_result"
    }
   ],
   "source": [
    "y_prep"
   ]
  },
  {
   "cell_type": "code",
   "execution_count": 17,
   "id": "bc4ecba5-ddc3-43c8-bec4-9902df08d4e4",
   "metadata": {},
   "outputs": [
    {
     "data": {
      "text/plain": [
       "['komputer', 'guna', 'layan', 'sedia', 'jaring']"
      ]
     },
     "execution_count": 17,
     "metadata": {},
     "output_type": "execute_result"
    }
   ],
   "source": [
    "# metode word embedding \n",
    "# tokenized each sentence into list\n",
    "x_tokenized = [[w for w in sentence.split(\" \") if w != \"\"] for sentence in x]\n",
    "x_tokenized[0]"
   ]
  },
  {
   "cell_type": "code",
   "execution_count": 18,
   "id": "39329ecf",
   "metadata": {},
   "outputs": [
    {
     "name": "stdout",
     "output_type": "stream",
     "text": [
      "This process took 0.05 seconds.\n"
     ]
    }
   ],
   "source": [
    "#Train word2vec model using Gensim library and x_tokenize data\n",
    "import time\n",
    "import gensim\n",
    "\n",
    "start = time.time()\n",
    "\n",
    "model = gensim.models.Word2Vec(x_tokenized,\n",
    "                 vector_size=100\n",
    "                 # Size is the length of our vector.\n",
    "                )\n",
    "\n",
    "end = round(time.time()-start,2)\n",
    "print(\"This process took\",end,\"seconds.\")"
   ]
  },
  {
   "cell_type": "code",
   "execution_count": 19,
   "id": "099fc09d",
   "metadata": {},
   "outputs": [
    {
     "data": {
      "text/plain": [
       "[('unit', 0.9994640946388245),\n",
       " ('memory', 0.9993798732757568),\n",
       " ('data', 0.999369204044342),\n",
       " ('turbo', 0.999276876449585),\n",
       " ('guna', 0.9992653727531433),\n",
       " ('program', 0.9992589950561523),\n",
       " ('kerja', 0.9992281198501587),\n",
       " ('alu', 0.9992130994796753),\n",
       " ('boost', 0.9992090463638306),\n",
       " ('processor', 0.9991937875747681)]"
      ]
     },
     "execution_count": 19,
     "metadata": {},
     "output_type": "execute_result"
    }
   ],
   "source": [
    "model.wv.most_similar(\"komputer\")"
   ]
  },
  {
   "cell_type": "code",
   "execution_count": 20,
   "id": "e4240eba",
   "metadata": {},
   "outputs": [],
   "source": [
    "# class sequencer use for \n",
    "\n",
    "class Sequencer():\n",
    "\n",
    "    def __init__(self,\n",
    "                 all_words,\n",
    "                 max_words,\n",
    "                 seq_len,\n",
    "                 embedding_matrix\n",
    "                ):\n",
    "\n",
    "        self.seq_len = seq_len\n",
    "        self.embed_matrix = embedding_matrix\n",
    "        \"\"\"\n",
    "        temp_vocab = Vocab which has all the unique words\n",
    "        self.vocab = Our last vocab which has only most used N words.\n",
    "\n",
    "        \"\"\"\n",
    "        temp_vocab = list(set(all_words))\n",
    "        self.vocab = []\n",
    "        self.word_cnts = {}\n",
    "        \"\"\"\n",
    "        Now we'll create a hash map (dict) which includes words and their occurencies\n",
    "        \"\"\"\n",
    "        for word in temp_vocab:\n",
    "            # 0 does not have a meaning, you can add the word to the list\n",
    "            # or something different.\n",
    "            count = len([0 for w in all_words if w == word])\n",
    "            self.word_cnts[word] = count\n",
    "            counts = list(self.word_cnts.values())\n",
    "            indexes = list(range(len(counts)))\n",
    "\n",
    "        # Now we'll sort counts and while sorting them also will sort indexes.\n",
    "        # We'll use those indexes to find most used N word.\n",
    "        cnt = 0\n",
    "        while cnt + 1 != len(counts):\n",
    "            cnt = 0\n",
    "            for i in range(len(counts)-1):\n",
    "                if counts[i] < counts[i+1]:\n",
    "                    counts[i+1],counts[i] = counts[i],counts[i+1]\n",
    "                    indexes[i],indexes[i+1] = indexes[i+1],indexes[i]\n",
    "                else:\n",
    "                    cnt += 1\n",
    "\n",
    "        for ind in indexes[:max_words]:\n",
    "            self.vocab.append(temp_vocab[ind])\n",
    "\n",
    "    def textToVector(self,text):\n",
    "        # First we need to split the text into its tokens and learn the length\n",
    "        # If length is shorter than the max len we'll add some spaces (100D vectors which has only zero values)\n",
    "        # If it's longer than the max len we'll trim from the end.\n",
    "        tokens = text.split()\n",
    "        len_v = len(tokens)-1 if len(tokens) < self.seq_len else self.seq_len-1\n",
    "        vec = []\n",
    "        for tok in tokens[:len_v]:\n",
    "            try:\n",
    "                vec.append(self.embed_matrix[tok])\n",
    "            except Exception as E:\n",
    "                pass\n",
    "\n",
    "        last_pieces = self.seq_len - len(vec)\n",
    "        for i in range(last_pieces):\n",
    "            vec.append(np.zeros(100,))\n",
    "\n",
    "        return np.asarray(vec).flatten()"
   ]
  },
  {
   "cell_type": "code",
   "execution_count": 21,
   "id": "eda6f294",
   "metadata": {},
   "outputs": [],
   "source": [
    "sequencer = Sequencer(all_words = [token for seq in x_tokenized for token in seq],\n",
    "              max_words = 1200,\n",
    "              seq_len = 15,\n",
    "              embedding_matrix = model.wv\n",
    "             )"
   ]
  },
  {
   "cell_type": "code",
   "execution_count": 22,
   "id": "daa0641a",
   "metadata": {},
   "outputs": [
    {
     "data": {
      "text/plain": [
       "array([-0.07780912,  0.11008227,  0.01534857, ...,  0.        ,\n",
       "        0.        ,  0.        ])"
      ]
     },
     "execution_count": 22,
     "metadata": {},
     "output_type": "execute_result"
    }
   ],
   "source": [
    "# menguji sebuah kalimat menggunakan model word2vec\n",
    "test_vec = sequencer.textToVector(\"aplikasi komputer\")\n",
    "test_vec"
   ]
  },
  {
   "cell_type": "code",
   "execution_count": 23,
   "id": "23f2870a",
   "metadata": {},
   "outputs": [
    {
     "data": {
      "text/plain": [
       "(1500,)"
      ]
     },
     "execution_count": 23,
     "metadata": {},
     "output_type": "execute_result"
    }
   ],
   "source": [
    "#shape of test_vec \n",
    "test_vec.shape"
   ]
  },
  {
   "cell_type": "code",
   "execution_count": 24,
   "id": "f88411a8",
   "metadata": {},
   "outputs": [
    {
     "data": {
      "text/plain": [
       "array([[-0.21320371,  0.28749859,  0.02822648, ...,  0.        ,\n",
       "         0.        ,  0.        ],\n",
       "       [ 0.        ,  0.        ,  0.        , ...,  0.        ,\n",
       "         0.        ,  0.        ],\n",
       "       [-0.06262442,  0.0955276 , -0.00230743, ...,  0.        ,\n",
       "         0.        ,  0.        ],\n",
       "       ...,\n",
       "       [-0.12521598,  0.17627819,  0.01268003, ...,  0.        ,\n",
       "         0.        ,  0.        ],\n",
       "       [-0.12521598,  0.17627819,  0.01268003, ...,  0.        ,\n",
       "         0.        ,  0.        ],\n",
       "       [-0.12521598,  0.17627819,  0.01268003, ...,  0.        ,\n",
       "         0.        ,  0.        ]])"
      ]
     },
     "execution_count": 24,
     "metadata": {},
     "output_type": "execute_result"
    }
   ],
   "source": [
    "#text to vector model using x_tokenized data \n",
    "x_vecs = np.asarray([sequencer.textToVector(\" \".join(seq)) for seq in x_tokenized])\n",
    "x_vecs"
   ]
  },
  {
   "cell_type": "code",
   "execution_count": 25,
   "id": "d4c13197",
   "metadata": {},
   "outputs": [
    {
     "name": "stdout",
     "output_type": "stream",
     "text": [
      "Sum of variance ratios:  0.9974755381981186\n"
     ]
    }
   ],
   "source": [
    "# After got a word2vec value, this list shape is very large, then using PCA for reducing the list \n",
    "\n",
    "from sklearn.decomposition import PCA\n",
    "pca_model = PCA(n_components=50)\n",
    "pca_model.fit(x_vecs)\n",
    "print(\"Sum of variance ratios: \",sum(pca_model.explained_variance_ratio_))\n"
   ]
  },
  {
   "cell_type": "code",
   "execution_count": 26,
   "id": "303d735b",
   "metadata": {},
   "outputs": [
    {
     "data": {
      "text/plain": [
       "(220, 50)"
      ]
     },
     "execution_count": 26,
     "metadata": {},
     "output_type": "execute_result"
    }
   ],
   "source": [
    "x_comps = pca_model.transform(x_vecs)\n",
    "x_comps.shape"
   ]
  },
  {
   "cell_type": "code",
   "execution_count": 27,
   "id": "7bdf544d",
   "metadata": {},
   "outputs": [
    {
     "data": {
      "text/plain": [
       "array([[ 2.83374143e+00,  5.85188363e-01,  1.98410607e-01, ...,\n",
       "         6.89464612e-03,  1.38056103e-02,  5.59255782e-03],\n",
       "       [ 3.35753414e+00,  1.76334156e+00, -8.82698617e-02, ...,\n",
       "         1.88823012e-03, -7.03919581e-03, -4.56286607e-03],\n",
       "       [ 3.11609395e+00,  1.32231063e+00, -8.38153923e-02, ...,\n",
       "        -1.24406475e-02, -5.26536419e-03, -8.16085418e-03],\n",
       "       ...,\n",
       "       [ 1.22482894e+00, -1.04903280e+00,  2.70006624e-01, ...,\n",
       "         1.48425133e-02,  6.81644296e-03, -2.12293240e-02],\n",
       "       [-1.49554377e+00,  6.22420281e-01,  2.96802465e-01, ...,\n",
       "        -4.34941791e-03, -1.06797453e-02, -2.21497466e-04],\n",
       "       [ 1.15496573e+00, -7.76494299e-01,  3.78112116e-01, ...,\n",
       "        -5.68524946e-03, -8.81611546e-03, -2.07062584e-02]])"
      ]
     },
     "execution_count": 27,
     "metadata": {},
     "output_type": "execute_result"
    }
   ],
   "source": [
    "x_comps"
   ]
  },
  {
   "cell_type": "code",
   "execution_count": 29,
   "id": "1ce20175",
   "metadata": {},
   "outputs": [
    {
     "name": "stdout",
     "output_type": "stream",
     "text": [
      "(176, 50)\n",
      "(44, 50)\n",
      "(176,)\n",
      "(44,)\n"
     ]
    }
   ],
   "source": [
    "#After PCA Data is ready, then with using train test split for split data into 80% data train and 20% data test\n",
    "from sklearn.model_selection import train_test_split\n",
    "\n",
    "x_train,x_test,y_train,y_test = train_test_split(x_comps,y_prep,test_size=0.2,random_state=42)\n",
    "print(x_train.shape)\n",
    "print(x_test.shape)\n",
    "print(y_train.shape)\n",
    "print(y_test.shape)"
   ]
  },
  {
   "cell_type": "markdown",
   "id": "31be68ad",
   "metadata": {},
   "source": [
    "Training and testing dataset using classification algorithm\n",
    "This classification algorithm for get the probability of classfication "
   ]
  },
  {
   "cell_type": "code",
   "execution_count": 32,
   "id": "a3aff10b",
   "metadata": {},
   "outputs": [
    {
     "name": "stdout",
     "output_type": "stream",
     "text": [
      "Score of SVM 0.5454545454545454\n",
      "Score of RFC 0.9318181818181818\n",
      "Score of GradBoost 0.9545454545454546\n",
      "Score of AdaBoost 0.7727272727272727\n",
      "Score of DT 0.7954545454545454\n",
      "Score of LogReg 0.5\n",
      "Score of GaussianNB 0.9318181818181818\n",
      "Score of BernoulliNB 0.8181818181818182\n",
      "Score of KNN 0.36363636363636365\n"
     ]
    }
   ],
   "source": [
    "from sklearn.tree import DecisionTreeClassifier\n",
    "from sklearn.ensemble import RandomForestClassifier, GradientBoostingClassifier, AdaBoostClassifier\n",
    "from sklearn.linear_model import LogisticRegression\n",
    "from sklearn.neighbors import KNeighborsClassifier\n",
    "from sklearn.naive_bayes import BernoulliNB, GaussianNB\n",
    "from sklearn.svm import SVC\n",
    "\n",
    "svm_classifier = SVC()\n",
    "svm_classifier.fit(x_train,y_train)\n",
    "print(\"Score of SVM\",svm_classifier.score(x_test,y_test))\n",
    "\n",
    "rfc = RandomForestClassifier()\n",
    "rfc.fit(x_train,y_train)\n",
    "print(\"Score of RFC\",rfc.score(x_test,y_test))\n",
    "\n",
    "gbc = GradientBoostingClassifier()\n",
    "gbc.fit(x_train, y_train)\n",
    "print(\"Score of GradBoost\",gbc.score(x_test,y_test))\n",
    "\n",
    "abc = AdaBoostClassifier()\n",
    "abc.fit(x_train, y_train)\n",
    "print(\"Score of AdaBoost\",abc.score(x_test,y_test))\n",
    "\n",
    "dtc = DecisionTreeClassifier()\n",
    "dtc.fit(x_train,y_train)\n",
    "print(\"Score of DT\",dtc.score(x_test,y_test))\n",
    "\n",
    "logreg = LogisticRegression()\n",
    "logreg.fit(x_train,y_train)\n",
    "print(\"Score of LogReg\",logreg.score(x_test,y_test))\n",
    "\n",
    "gnb = GaussianNB()\n",
    "gnb.fit(x_train,y_train)\n",
    "print(\"Score of GaussianNB\",gnb.score(x_test,y_test))\n",
    "\n",
    "bnb = BernoulliNB()\n",
    "bnb.fit(x_train,y_train)\n",
    "print(\"Score of BernoulliNB\",bnb.score(x_test,y_test))\n",
    "\n",
    "knn = KNeighborsClassifier(7)\n",
    "knn.fit(x_train,y_train)\n",
    "print(\"Score of KNN\",knn.score(x_test,y_test))\n"
   ]
  },
  {
   "cell_type": "markdown",
   "id": "fdbb052f",
   "metadata": {},
   "source": [
    "Feature engineering using probabity of prediction "
   ]
  },
  {
   "cell_type": "code",
   "execution_count": 33,
   "id": "ca2d4eb0",
   "metadata": {},
   "outputs": [],
   "source": [
    "# because the Gradient Boosting classification is the highest score, extraction of feature value using this algorithm. \n",
    "# probability of prediction (POP)\n",
    "pop = gbc.predict_proba(x_comps)"
   ]
  },
  {
   "cell_type": "code",
   "execution_count": 34,
   "id": "3312911a",
   "metadata": {},
   "outputs": [
    {
     "data": {
      "text/plain": [
       "array([0, 1, 2, 3])"
      ]
     },
     "execution_count": 34,
     "metadata": {},
     "output_type": "execute_result"
    }
   ],
   "source": [
    "gbc.classes_"
   ]
  },
  {
   "cell_type": "code",
   "execution_count": 37,
   "id": "b02f814b",
   "metadata": {},
   "outputs": [
    {
     "data": {
      "text/plain": [
       "array([9.99410760e-01, 3.32837196e-01, 9.99470351e-01, 9.99924572e-01,\n",
       "       9.99907382e-01, 9.99942146e-01, 9.99861714e-01, 9.99818906e-01,\n",
       "       9.99483025e-01, 9.99915427e-01, 9.99908020e-01, 9.99941155e-01,\n",
       "       9.99939602e-01, 9.99923164e-01, 9.99827952e-01, 9.99890357e-01,\n",
       "       9.83721206e-01, 9.99919954e-01, 9.99916005e-01, 9.99755940e-01,\n",
       "       9.99931851e-01, 9.99878048e-01, 9.99863464e-01, 9.99928336e-01,\n",
       "       9.99904942e-01, 9.96878561e-01, 9.99928874e-01, 9.99951011e-01,\n",
       "       9.99873878e-01, 9.99929623e-01, 9.97570946e-01, 9.99949062e-01,\n",
       "       9.99890818e-01, 9.99953153e-01, 9.99893030e-01, 9.99728529e-01,\n",
       "       9.99957208e-01, 9.99780110e-01, 9.99938168e-01, 9.99894178e-01,\n",
       "       9.99955716e-01, 9.99944071e-01, 9.99602270e-01, 9.99917552e-01,\n",
       "       9.99919005e-01, 9.98920776e-01, 9.99568897e-01, 9.99850390e-01,\n",
       "       9.99940815e-01, 9.99831080e-01, 9.99937858e-01, 9.99887508e-01,\n",
       "       9.99914845e-01, 9.99904160e-01, 9.99709238e-01, 4.80076616e-06,\n",
       "       3.79442073e-05, 1.25208276e-05, 7.80367429e-06, 7.24878231e-06,\n",
       "       9.67222059e-06, 9.87478025e-06, 2.54328164e-05, 1.28244327e-05,\n",
       "       6.63286417e-06, 4.35264701e-05, 2.46338356e-05, 1.12097485e-03,\n",
       "       7.74215586e-05, 1.88622707e-05, 9.67537158e-06, 2.25562860e-05,\n",
       "       2.19572682e-05, 7.96998890e-06, 1.29320347e-05, 1.12617313e-05,\n",
       "       4.87141373e-06, 1.72242756e-05, 9.36077288e-06, 1.41924260e-05,\n",
       "       1.06639296e-05, 1.07764508e-05, 1.34084436e-05, 1.17752751e-05,\n",
       "       2.20969156e-05, 1.24567420e-05, 1.25375039e-05, 8.64018014e-06,\n",
       "       1.91563013e-05, 6.83448697e-06, 5.04676237e-05, 2.46064408e-05,\n",
       "       6.83061201e-05, 9.67520942e-06, 1.04432282e-05, 1.38317803e-05,\n",
       "       1.82547108e-05, 1.09977995e-04, 3.23884500e-05, 6.74238651e-06,\n",
       "       5.93209669e-01, 5.30190268e-05, 5.67490690e-06, 5.43516484e-05,\n",
       "       1.06707698e-05, 4.42067460e-05, 1.94896396e-05, 2.66584713e-04,\n",
       "       1.07174791e-05, 4.91974066e-05, 6.34296013e-05, 3.06576853e-02,\n",
       "       1.34904998e-05, 9.42945868e-05, 2.49771800e-05, 2.01944373e-04,\n",
       "       1.28375791e-05, 4.43265215e-05, 1.03559657e-04, 8.37537371e-05,\n",
       "       5.73079961e-05, 1.49790535e-05, 4.18927217e-05, 1.27170612e-04,\n",
       "       6.58723936e-05, 4.50933742e-05, 5.58645213e-05, 8.52416637e-04,\n",
       "       4.24159114e-05, 4.76709870e-05, 1.89451610e-05, 6.66150802e-05,\n",
       "       1.40399107e-04, 1.64861415e-05, 1.60721605e-05, 3.16442613e-05,\n",
       "       1.96758293e-05, 3.70866019e-05, 3.42532996e-05, 4.16615289e-05,\n",
       "       7.42556706e-05, 1.56276510e-04, 8.45886434e-05, 1.12231056e-05,\n",
       "       5.15503483e-05, 2.30865474e-05, 6.53126716e-05, 2.81048211e-04,\n",
       "       8.80445091e-05, 1.26275876e-05, 1.42531410e-05, 4.19600726e-05,\n",
       "       6.55634117e-05, 3.97704519e-05, 2.08092575e-04, 1.06210497e-05,\n",
       "       7.89615843e-04, 2.18152111e-05, 1.71293467e-04, 1.05973904e-05,\n",
       "       1.29148186e-04, 2.01819026e-05, 1.16962729e-04, 4.81935434e-05,\n",
       "       3.68370112e-05, 2.63467634e-05, 1.48525249e-05, 1.81309213e-05,\n",
       "       1.50377226e-05, 1.74940862e-05, 2.38360409e-05, 8.35389174e-05,\n",
       "       9.31320438e-05, 6.95709086e-05, 2.89016860e-05, 2.44849564e-05,\n",
       "       1.41137691e-05, 2.08642154e-05, 6.11919005e-05, 5.63587427e-05,\n",
       "       1.86861640e-05, 6.35689948e-05, 2.53036604e-05, 2.26167411e-05,\n",
       "       5.45633367e-05, 1.26552227e-04, 2.96240365e-05, 6.07491873e-05,\n",
       "       1.02933497e-04, 1.04726786e-02, 2.58610921e-04, 9.25137767e-06,\n",
       "       2.06972729e-05, 5.84895419e-03, 2.56285951e-05, 2.31660207e-05,\n",
       "       1.97619449e-05, 1.64788662e-05, 4.83316822e-05, 2.17715122e-05,\n",
       "       3.62655259e-04, 1.10337442e-03, 2.12227737e-05, 5.61745453e-05,\n",
       "       2.17713212e-05, 2.52379475e-05, 3.32837196e-01, 8.95888923e-05,\n",
       "       3.32837196e-01, 5.15432409e-05, 2.93444070e-03, 4.78813443e-04,\n",
       "       1.23207751e-05, 1.94524948e-04, 5.56280765e-05, 5.45615890e-05,\n",
       "       1.25392833e-05, 2.29899430e-05, 1.56295404e-04, 6.41472403e-05])"
      ]
     },
     "execution_count": 37,
     "metadata": {},
     "output_type": "execute_result"
    }
   ],
   "source": [
    "pop[:,0]"
   ]
  },
  {
   "cell_type": "code",
   "execution_count": 38,
   "id": "0e8cfd3e",
   "metadata": {},
   "outputs": [
    {
     "name": "stdout",
     "output_type": "stream",
     "text": [
      "                                     jawaban_mahasiswa  \\\n",
      "0                     komputer guna layan sedia jaring   \n",
      "1               fundamental centralized infrastructure   \n",
      "2                    hubung komponen jaring komunikasi   \n",
      "3    client server jaring komunikasi client server ...   \n",
      "4    client server jaring 2 buah cliet 1 server sat...   \n",
      "..                                                 ...   \n",
      "215  turbo boost sistem beri produsen prosesor ting...   \n",
      "216  turbo boost cepat kerja processor milik perfor...   \n",
      "217  turbo boost kondisi jadi tambah cepat prosesor...   \n",
      "218  turbo boost fitur prosesor tingkat kerja prose...   \n",
      "219  turbo boost tingkat performa prosesor tingkat ...   \n",
      "\n",
      "                                         jawaban_dosen  human_rater  \\\n",
      "0    client server jaringan komputer model komunika...           20   \n",
      "1    client server jaringan komputer model komunika...           20   \n",
      "2    client server jaringan komputer model komunika...           30   \n",
      "3    client server jaringan komputer model komunika...           40   \n",
      "4    client server jaringan komputer model komunika...           40   \n",
      "..                                                 ...          ...   \n",
      "215  turbo boost salah satu fitur prosesor masa ber...           70   \n",
      "216  turbo boost salah satu fitur prosesor masa ber...           80   \n",
      "217  turbo boost salah satu fitur prosesor masa ber...           60   \n",
      "218  turbo boost salah satu fitur prosesor masa ber...           80   \n",
      "219  turbo boost salah satu fitur prosesor masa ber...           70   \n",
      "\n",
      "     human_rater_scaled  similarity  probability  \n",
      "0                   0.2    0.034600     0.999411  \n",
      "1                   0.2    0.000000     0.332837  \n",
      "2                   0.3    0.039225     0.999470  \n",
      "3                   0.4    0.252716     0.999925  \n",
      "4                   0.4    0.178612     0.999907  \n",
      "..                  ...         ...          ...  \n",
      "215                 0.7    0.209181     0.000055  \n",
      "216                 0.8    0.153784     0.000013  \n",
      "217                 0.6    0.232294     0.000023  \n",
      "218                 0.8    0.432760     0.000156  \n",
      "219                 0.7    0.191815     0.000064  \n",
      "\n",
      "[220 rows x 6 columns]\n"
     ]
    }
   ],
   "source": [
    "df_new = data.copy()\n",
    "df_new[\"probability\"] = pop[:,0] # clf.predict_proba(X_test)"
   ]
  },
  {
   "cell_type": "markdown",
   "id": "b6bd1a9e",
   "metadata": {},
   "source": [
    "This is a new df, whish is the df that contain the new feature such as siimilarity and pop. "
   ]
  },
  {
   "cell_type": "code",
   "execution_count": 39,
   "id": "45767f6e",
   "metadata": {},
   "outputs": [
    {
     "data": {
      "text/html": [
       "<div>\n",
       "<style scoped>\n",
       "    .dataframe tbody tr th:only-of-type {\n",
       "        vertical-align: middle;\n",
       "    }\n",
       "\n",
       "    .dataframe tbody tr th {\n",
       "        vertical-align: top;\n",
       "    }\n",
       "\n",
       "    .dataframe thead th {\n",
       "        text-align: right;\n",
       "    }\n",
       "</style>\n",
       "<table border=\"1\" class=\"dataframe\">\n",
       "  <thead>\n",
       "    <tr style=\"text-align: right;\">\n",
       "      <th></th>\n",
       "      <th>jawaban_mahasiswa</th>\n",
       "      <th>jawaban_dosen</th>\n",
       "      <th>human_rater</th>\n",
       "      <th>human_rater_scaled</th>\n",
       "      <th>similarity</th>\n",
       "      <th>probability</th>\n",
       "    </tr>\n",
       "  </thead>\n",
       "  <tbody>\n",
       "    <tr>\n",
       "      <th>0</th>\n",
       "      <td>komputer guna layan sedia jaring</td>\n",
       "      <td>client server jaringan komputer model komunika...</td>\n",
       "      <td>20</td>\n",
       "      <td>0.2</td>\n",
       "      <td>0.034600</td>\n",
       "      <td>0.999411</td>\n",
       "    </tr>\n",
       "    <tr>\n",
       "      <th>1</th>\n",
       "      <td>fundamental centralized infrastructure</td>\n",
       "      <td>client server jaringan komputer model komunika...</td>\n",
       "      <td>20</td>\n",
       "      <td>0.2</td>\n",
       "      <td>0.000000</td>\n",
       "      <td>0.332837</td>\n",
       "    </tr>\n",
       "    <tr>\n",
       "      <th>2</th>\n",
       "      <td>hubung komponen jaring komunikasi</td>\n",
       "      <td>client server jaringan komputer model komunika...</td>\n",
       "      <td>30</td>\n",
       "      <td>0.3</td>\n",
       "      <td>0.039225</td>\n",
       "      <td>0.999470</td>\n",
       "    </tr>\n",
       "    <tr>\n",
       "      <th>3</th>\n",
       "      <td>client server jaring komunikasi client server ...</td>\n",
       "      <td>client server jaringan komputer model komunika...</td>\n",
       "      <td>40</td>\n",
       "      <td>0.4</td>\n",
       "      <td>0.252716</td>\n",
       "      <td>0.999925</td>\n",
       "    </tr>\n",
       "    <tr>\n",
       "      <th>4</th>\n",
       "      <td>client server jaring 2 buah cliet 1 server sat...</td>\n",
       "      <td>client server jaringan komputer model komunika...</td>\n",
       "      <td>40</td>\n",
       "      <td>0.4</td>\n",
       "      <td>0.178612</td>\n",
       "      <td>0.999907</td>\n",
       "    </tr>\n",
       "    <tr>\n",
       "      <th>...</th>\n",
       "      <td>...</td>\n",
       "      <td>...</td>\n",
       "      <td>...</td>\n",
       "      <td>...</td>\n",
       "      <td>...</td>\n",
       "      <td>...</td>\n",
       "    </tr>\n",
       "    <tr>\n",
       "      <th>215</th>\n",
       "      <td>turbo boost sistem beri produsen prosesor ting...</td>\n",
       "      <td>turbo boost salah satu fitur prosesor masa ber...</td>\n",
       "      <td>70</td>\n",
       "      <td>0.7</td>\n",
       "      <td>0.209181</td>\n",
       "      <td>0.000055</td>\n",
       "    </tr>\n",
       "    <tr>\n",
       "      <th>216</th>\n",
       "      <td>turbo boost cepat kerja processor milik perfor...</td>\n",
       "      <td>turbo boost salah satu fitur prosesor masa ber...</td>\n",
       "      <td>80</td>\n",
       "      <td>0.8</td>\n",
       "      <td>0.153784</td>\n",
       "      <td>0.000013</td>\n",
       "    </tr>\n",
       "    <tr>\n",
       "      <th>217</th>\n",
       "      <td>turbo boost kondisi jadi tambah cepat prosesor...</td>\n",
       "      <td>turbo boost salah satu fitur prosesor masa ber...</td>\n",
       "      <td>60</td>\n",
       "      <td>0.6</td>\n",
       "      <td>0.232294</td>\n",
       "      <td>0.000023</td>\n",
       "    </tr>\n",
       "    <tr>\n",
       "      <th>218</th>\n",
       "      <td>turbo boost fitur prosesor tingkat kerja prose...</td>\n",
       "      <td>turbo boost salah satu fitur prosesor masa ber...</td>\n",
       "      <td>80</td>\n",
       "      <td>0.8</td>\n",
       "      <td>0.432760</td>\n",
       "      <td>0.000156</td>\n",
       "    </tr>\n",
       "    <tr>\n",
       "      <th>219</th>\n",
       "      <td>turbo boost tingkat performa prosesor tingkat ...</td>\n",
       "      <td>turbo boost salah satu fitur prosesor masa ber...</td>\n",
       "      <td>70</td>\n",
       "      <td>0.7</td>\n",
       "      <td>0.191815</td>\n",
       "      <td>0.000064</td>\n",
       "    </tr>\n",
       "  </tbody>\n",
       "</table>\n",
       "<p>220 rows × 6 columns</p>\n",
       "</div>"
      ],
      "text/plain": [
       "                                     jawaban_mahasiswa  \\\n",
       "0                     komputer guna layan sedia jaring   \n",
       "1               fundamental centralized infrastructure   \n",
       "2                    hubung komponen jaring komunikasi   \n",
       "3    client server jaring komunikasi client server ...   \n",
       "4    client server jaring 2 buah cliet 1 server sat...   \n",
       "..                                                 ...   \n",
       "215  turbo boost sistem beri produsen prosesor ting...   \n",
       "216  turbo boost cepat kerja processor milik perfor...   \n",
       "217  turbo boost kondisi jadi tambah cepat prosesor...   \n",
       "218  turbo boost fitur prosesor tingkat kerja prose...   \n",
       "219  turbo boost tingkat performa prosesor tingkat ...   \n",
       "\n",
       "                                         jawaban_dosen  human_rater  \\\n",
       "0    client server jaringan komputer model komunika...           20   \n",
       "1    client server jaringan komputer model komunika...           20   \n",
       "2    client server jaringan komputer model komunika...           30   \n",
       "3    client server jaringan komputer model komunika...           40   \n",
       "4    client server jaringan komputer model komunika...           40   \n",
       "..                                                 ...          ...   \n",
       "215  turbo boost salah satu fitur prosesor masa ber...           70   \n",
       "216  turbo boost salah satu fitur prosesor masa ber...           80   \n",
       "217  turbo boost salah satu fitur prosesor masa ber...           60   \n",
       "218  turbo boost salah satu fitur prosesor masa ber...           80   \n",
       "219  turbo boost salah satu fitur prosesor masa ber...           70   \n",
       "\n",
       "     human_rater_scaled  similarity  probability  \n",
       "0                   0.2    0.034600     0.999411  \n",
       "1                   0.2    0.000000     0.332837  \n",
       "2                   0.3    0.039225     0.999470  \n",
       "3                   0.4    0.252716     0.999925  \n",
       "4                   0.4    0.178612     0.999907  \n",
       "..                  ...         ...          ...  \n",
       "215                 0.7    0.209181     0.000055  \n",
       "216                 0.8    0.153784     0.000013  \n",
       "217                 0.6    0.232294     0.000023  \n",
       "218                 0.8    0.432760     0.000156  \n",
       "219                 0.7    0.191815     0.000064  \n",
       "\n",
       "[220 rows x 6 columns]"
      ]
     },
     "execution_count": 39,
     "metadata": {},
     "output_type": "execute_result"
    }
   ],
   "source": [
    "df_new"
   ]
  },
  {
   "cell_type": "code",
   "execution_count": 40,
   "id": "c78fa559",
   "metadata": {},
   "outputs": [],
   "source": [
    "# then, will be choose two feature of new data frame, which \"similarity\" and \"probability\" for train the linear regression for predict human rater\n",
    "\n",
    "x_sim = df_new['similarity']\n",
    "x_prob = df_new['probability']\n",
    "y = df_new['human_rater_scaled']"
   ]
  },
  {
   "cell_type": "code",
   "execution_count": 49,
   "id": "a53e1cbd",
   "metadata": {},
   "outputs": [],
   "source": [
    "# split the data use x_sim and y data\n",
    "x_train_sim, x_test_sim, y_train_sim, y_test_sim = train_test_split(x_sim, y, test_size=0.2 , random_state=42)\n",
    "\n",
    "# split the data use x_prob and y data\n",
    "x_train_prob, x_test_prob, y_train_prob, y_test_prob = train_test_split(x_prob, y, test_size=0.2 , random_state=42)"
   ]
  },
  {
   "cell_type": "code",
   "execution_count": 55,
   "id": "6077055b",
   "metadata": {},
   "outputs": [
    {
     "data": {
      "text/html": [
       "<table class=\"simpletable\">\n",
       "<caption>OLS Regression Results</caption>\n",
       "<tr>\n",
       "  <th>Dep. Variable:</th>    <td>human_rater_scaled</td> <th>  R-squared (uncentered):</th>      <td>   0.842</td>\n",
       "</tr>\n",
       "<tr>\n",
       "  <th>Model:</th>                    <td>OLS</td>        <th>  Adj. R-squared (uncentered):</th> <td>   0.841</td>\n",
       "</tr>\n",
       "<tr>\n",
       "  <th>Method:</th>              <td>Least Squares</td>   <th>  F-statistic:       </th>          <td>   934.9</td>\n",
       "</tr>\n",
       "<tr>\n",
       "  <th>Date:</th>              <td>Wed, 20 Sep 2023</td>  <th>  Prob (F-statistic):</th>          <td>4.16e-72</td>\n",
       "</tr>\n",
       "<tr>\n",
       "  <th>Time:</th>                  <td>08:03:14</td>      <th>  Log-Likelihood:    </th>          <td> -44.723</td>\n",
       "</tr>\n",
       "<tr>\n",
       "  <th>No. Observations:</th>       <td>   176</td>       <th>  AIC:               </th>          <td>   91.45</td>\n",
       "</tr>\n",
       "<tr>\n",
       "  <th>Df Residuals:</th>           <td>   175</td>       <th>  BIC:               </th>          <td>   94.62</td>\n",
       "</tr>\n",
       "<tr>\n",
       "  <th>Df Model:</th>               <td>     1</td>       <th>                     </th>              <td> </td>   \n",
       "</tr>\n",
       "<tr>\n",
       "  <th>Covariance Type:</th>       <td>nonrobust</td>     <th>                     </th>              <td> </td>   \n",
       "</tr>\n",
       "</table>\n",
       "<table class=\"simpletable\">\n",
       "<tr>\n",
       "       <td></td>         <th>coef</th>     <th>std err</th>      <th>t</th>      <th>P>|t|</th>  <th>[0.025</th>    <th>0.975]</th>  \n",
       "</tr>\n",
       "<tr>\n",
       "  <th>similarity</th> <td>    3.4237</td> <td>    0.112</td> <td>   30.576</td> <td> 0.000</td> <td>    3.203</td> <td>    3.645</td>\n",
       "</tr>\n",
       "</table>\n",
       "<table class=\"simpletable\">\n",
       "<tr>\n",
       "  <th>Omnibus:</th>       <td> 2.480</td> <th>  Durbin-Watson:     </th> <td>   1.953</td>\n",
       "</tr>\n",
       "<tr>\n",
       "  <th>Prob(Omnibus):</th> <td> 0.289</td> <th>  Jarque-Bera (JB):  </th> <td>   2.105</td>\n",
       "</tr>\n",
       "<tr>\n",
       "  <th>Skew:</th>          <td>-0.254</td> <th>  Prob(JB):          </th> <td>   0.349</td>\n",
       "</tr>\n",
       "<tr>\n",
       "  <th>Kurtosis:</th>      <td> 3.168</td> <th>  Cond. No.          </th> <td>    1.00</td>\n",
       "</tr>\n",
       "</table><br/><br/>Notes:<br/>[1] R² is computed without centering (uncentered) since the model does not contain a constant.<br/>[2] Standard Errors assume that the covariance matrix of the errors is correctly specified."
      ],
      "text/latex": [
       "\\begin{center}\n",
       "\\begin{tabular}{lclc}\n",
       "\\toprule\n",
       "\\textbf{Dep. Variable:}    & human\\_rater\\_scaled & \\textbf{  R-squared (uncentered):}      &     0.842   \\\\\n",
       "\\textbf{Model:}            &         OLS          & \\textbf{  Adj. R-squared (uncentered):} &     0.841   \\\\\n",
       "\\textbf{Method:}           &    Least Squares     & \\textbf{  F-statistic:       }          &     934.9   \\\\\n",
       "\\textbf{Date:}             &   Wed, 20 Sep 2023   & \\textbf{  Prob (F-statistic):}          &  4.16e-72   \\\\\n",
       "\\textbf{Time:}             &       08:03:14       & \\textbf{  Log-Likelihood:    }          &   -44.723   \\\\\n",
       "\\textbf{No. Observations:} &           176        & \\textbf{  AIC:               }          &     91.45   \\\\\n",
       "\\textbf{Df Residuals:}     &           175        & \\textbf{  BIC:               }          &     94.62   \\\\\n",
       "\\textbf{Df Model:}         &             1        & \\textbf{                     }          &             \\\\\n",
       "\\textbf{Covariance Type:}  &      nonrobust       & \\textbf{                     }          &             \\\\\n",
       "\\bottomrule\n",
       "\\end{tabular}\n",
       "\\begin{tabular}{lcccccc}\n",
       "                    & \\textbf{coef} & \\textbf{std err} & \\textbf{t} & \\textbf{P$> |$t$|$} & \\textbf{[0.025} & \\textbf{0.975]}  \\\\\n",
       "\\midrule\n",
       "\\textbf{similarity} &       3.4237  &        0.112     &    30.576  &         0.000        &        3.203    &        3.645     \\\\\n",
       "\\bottomrule\n",
       "\\end{tabular}\n",
       "\\begin{tabular}{lclc}\n",
       "\\textbf{Omnibus:}       &  2.480 & \\textbf{  Durbin-Watson:     } &    1.953  \\\\\n",
       "\\textbf{Prob(Omnibus):} &  0.289 & \\textbf{  Jarque-Bera (JB):  } &    2.105  \\\\\n",
       "\\textbf{Skew:}          & -0.254 & \\textbf{  Prob(JB):          } &    0.349  \\\\\n",
       "\\textbf{Kurtosis:}      &  3.168 & \\textbf{  Cond. No.          } &     1.00  \\\\\n",
       "\\bottomrule\n",
       "\\end{tabular}\n",
       "%\\caption{OLS Regression Results}\n",
       "\\end{center}\n",
       "\n",
       "Notes: \\newline\n",
       " [1] R² is computed without centering (uncentered) since the model does not contain a constant. \\newline\n",
       " [2] Standard Errors assume that the covariance matrix of the errors is correctly specified."
      ],
      "text/plain": [
       "<class 'statsmodels.iolib.summary.Summary'>\n",
       "\"\"\"\n",
       "                                 OLS Regression Results                                \n",
       "=======================================================================================\n",
       "Dep. Variable:     human_rater_scaled   R-squared (uncentered):                   0.842\n",
       "Model:                            OLS   Adj. R-squared (uncentered):              0.841\n",
       "Method:                 Least Squares   F-statistic:                              934.9\n",
       "Date:                Wed, 20 Sep 2023   Prob (F-statistic):                    4.16e-72\n",
       "Time:                        08:03:14   Log-Likelihood:                         -44.723\n",
       "No. Observations:                 176   AIC:                                      91.45\n",
       "Df Residuals:                     175   BIC:                                      94.62\n",
       "Df Model:                           1                                                  \n",
       "Covariance Type:            nonrobust                                                  \n",
       "==============================================================================\n",
       "                 coef    std err          t      P>|t|      [0.025      0.975]\n",
       "------------------------------------------------------------------------------\n",
       "similarity     3.4237      0.112     30.576      0.000       3.203       3.645\n",
       "==============================================================================\n",
       "Omnibus:                        2.480   Durbin-Watson:                   1.953\n",
       "Prob(Omnibus):                  0.289   Jarque-Bera (JB):                2.105\n",
       "Skew:                          -0.254   Prob(JB):                        0.349\n",
       "Kurtosis:                       3.168   Cond. No.                         1.00\n",
       "==============================================================================\n",
       "\n",
       "Notes:\n",
       "[1] R² is computed without centering (uncentered) since the model does not contain a constant.\n",
       "[2] Standard Errors assume that the covariance matrix of the errors is correctly specified.\n",
       "\"\"\""
      ]
     },
     "execution_count": 55,
     "metadata": {},
     "output_type": "execute_result"
    }
   ],
   "source": [
    "import statsmodels.api as sm\n",
    "from sklearn.linear_model import LinearRegression\n",
    "\n",
    "model_sim = sm.OLS(y_train_sim, x_train_sim).fit()\n",
    "pred_sim = model_sim.predict(x_test_sim)\n",
    "model_sim.summary()"
   ]
  },
  {
   "cell_type": "code",
   "execution_count": 62,
   "id": "06ec7e20",
   "metadata": {},
   "outputs": [
    {
     "data": {
      "text/plain": [
       "-0.14368877489145682"
      ]
     },
     "execution_count": 62,
     "metadata": {},
     "output_type": "execute_result"
    }
   ],
   "source": [
    "#using LR Sklearn \n",
    "lr_sim = LinearRegression()\n",
    "reg_sim = lr_sim.fit(np.array(x_train_sim).reshape(-1,1), y_train_sim)\n",
    "reg_sim.score(np.array(x_test_sim).reshape(-1,1), y_test_sim)"
   ]
  },
  {
   "cell_type": "code",
   "execution_count": null,
   "id": "e75f8c11",
   "metadata": {},
   "outputs": [],
   "source": []
  }
 ],
 "metadata": {
  "environment": {
   "kernel": "python3",
   "name": "pytorch-gpu.1-13.m111",
   "type": "gcloud",
   "uri": "gcr.io/deeplearning-platform-release/pytorch-gpu.1-13:m111"
  },
  "kernelspec": {
   "display_name": "Python 3",
   "language": "python",
   "name": "python3"
  },
  "language_info": {
   "codemirror_mode": {
    "name": "ipython",
    "version": 3
   },
   "file_extension": ".py",
   "mimetype": "text/x-python",
   "name": "python",
   "nbconvert_exporter": "python",
   "pygments_lexer": "ipython3",
   "version": "3.10.12"
  }
 },
 "nbformat": 4,
 "nbformat_minor": 5
}
